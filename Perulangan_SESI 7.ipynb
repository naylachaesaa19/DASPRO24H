{
 "cells": [
  {
   "cell_type": "code",
   "execution_count": 1,
   "id": "aefb8f46-af49-4f75-9bfb-f8c81cdfb987",
   "metadata": {},
   "outputs": [
    {
     "name": "stdout",
     "output_type": "stream",
     "text": [
      "Buah : Apple\n",
      "Buah : Banana\n",
      "Buah : Watermelon\n",
      "Buah : Pineapple\n",
      "Looping Selesai!!\n"
     ]
    }
   ],
   "source": [
    "# for - while\n",
    "# collecttions -> list, tuple, dictionary, string\n",
    "fruits = [\"Apple\",\"Banana\",\"Watermelon\",\"Pineapple\"]\n",
    "\n",
    "for fruit in fruits:\n",
    "    print(f\"Buah : {fruit}\")\n",
    "print(f\"Looping Selesai!!\")"
   ]
  },
  {
   "cell_type": "code",
   "execution_count": 7,
   "id": "2a636274-b011-4dea-aa97-67da132cdd45",
   "metadata": {},
   "outputs": [
    {
     "name": "stdout",
     "output_type": "stream",
     "text": [
      "Nilai rata-rata Pemrograman TI24H :77.5\n",
      "Mahasiswa yang lulus sebanyak 4 orang\n",
      "Mahasiswa yang tidak lulus sebanyak 2 orang\n"
     ]
    }
   ],
   "source": [
    "#implementasi, Mencari nilai rata\" pemrograman dari kelas TI24H\n",
    "\n",
    "nilaiPemrograman = [80,90,100,60,65,70]\n",
    "#1. mencari total -> didalam looping\n",
    "#2. membagi dengan jumlah data -> diluar looping\n",
    "#3. hitunglah jumlah mahasiswa yang lulus >= 70\n",
    "total = 0\n",
    "lulus = 0\n",
    "for nilai in nilaiPemrograman:\n",
    "    if nilai >=70:\n",
    "        lulus +=1\n",
    "    total = total + nilai\n",
    "rata2 = total / len(nilaiPemrograman)\n",
    "print(f\"Nilai rata-rata Pemrograman TI24H :{rata2}\")\n",
    "print(f\"Mahasiswa yang lulus sebanyak {lulus} orang\")\n",
    "print(f\"Mahasiswa yang tidak lulus sebanyak {len(nilaiPemrograman)-lulus} orang\")"
   ]
  },
  {
   "cell_type": "code",
   "execution_count": 21,
   "id": "7aa390ac-1cc8-48da-98d2-1ddb883b2135",
   "metadata": {},
   "outputs": [
    {
     "name": "stdin",
     "output_type": "stream",
     "text": [
      "Isikan nama kampus : Uni\n"
     ]
    },
    {
     "name": "stdout",
     "output_type": "stream",
     "text": [
      "Jumlah huruf vokal = 2\n"
     ]
    }
   ],
   "source": [
    "#Hitunglah jumlah huruf vokal a,i,u,e,o\n",
    "#Nusa Putra\n",
    "listVokal = [\"a\",\"i\",\"u\",\"e\",\"o\"]\n",
    "totalVokal = 0\n",
    "kampus = input(\"Isikan nama kampus :\")\n",
    "for kar in kampus:\n",
    "    if kar.lower() in listVokal:\n",
    "        totalVokal += 1\n",
    "    \n",
    "print(f\"Jumlah huruf vokal = {totalVokal}\")"
   ]
  },
  {
   "cell_type": "code",
   "execution_count": 31,
   "id": "18a3a0d4-7777-427a-a8ca-5aca55fe67aa",
   "metadata": {},
   "outputs": [
    {
     "name": "stdout",
     "output_type": "stream",
     "text": [
      "[1, 4, 9, 16, 25, 36]\n"
     ]
    }
   ],
   "source": [
    "#for -> List comprehension\n",
    "data = [1,2,3,4,5,6]\n",
    "pangkat = [x**2 for x in data]\n",
    "print(pangkat)"
   ]
  },
  {
   "cell_type": "code",
   "execution_count": 33,
   "id": "1349fc7d-d535-4b43-8783-4a61bc15f3a3",
   "metadata": {},
   "outputs": [
    {
     "name": "stdout",
     "output_type": "stream",
     "text": [
      "Indeks 0 : Jan\n",
      "Indeks 1 : Feb\n",
      "Indeks 2 : Mar\n",
      "Indeks 3 : Apr\n",
      "Indeks 4 : May\n",
      "Indeks 5 : Jun\n",
      "Indeks 6 : Jul\n",
      "Indeks 7 : Aug\n",
      "Indeks 8 : Sep\n"
     ]
    }
   ],
   "source": [
    "#for -> enumeration\n",
    "month = [\"Jan\",\"Feb\",\"Mar\",\"Apr\",\"May\",\"Jun\",\"Jul\",\"Aug\",\"Sep\"]\n",
    "\n",
    "for i,m in enumerate(month):\n",
    "    print(f\"Indeks {i} : {m}\")"
   ]
  },
  {
   "cell_type": "code",
   "execution_count": 43,
   "id": "3ed63c4f-5bcf-448c-b23c-9474d946a653",
   "metadata": {},
   "outputs": [
    {
     "name": "stdout",
     "output_type": "stream",
     "text": [
      "jumlah kursi laki-laki = 3\n",
      "jumlah kursi perempuan = 3\n"
     ]
    }
   ],
   "source": [
    "cinemaChair = [\"M\",\"W\",\"M\",\"W\",\"M\",\"W\"]\n",
    "#Hitunglah jumlah kursi laki laki -> M\n",
    "#Hitunglah jumlah kursi perempuan -> W\n",
    "totalkursi = 0\n",
    "for kursi in cinemaChair:\n",
    "    if kursi == \"M\" :\n",
    "        totalkursi += 1\n",
    "print(f\"jumlah kursi laki-laki = {totalkursi}\")\n",
    "print(f\"jumlah kursi perempuan = {len(cinemaChair)-totalkursi}\")"
   ]
  },
  {
   "cell_type": "code",
   "execution_count": 49,
   "id": "c6f898a7-917c-4bf9-8044-83fc03fc5f7e",
   "metadata": {},
   "outputs": [
    {
     "name": "stdout",
     "output_type": "stream",
     "text": [
      "Jumlah kemungkinan penonton couple: 3\n"
     ]
    }
   ],
   "source": [
    "kursi = [\"L\",\"L\",\"P\",\"L\",\"P\",\"P\",\"P\"]\n",
    "#Hitunglah jumlah penonton bioskop yang kemungkinan couple\n",
    "totalCouple = 0\n",
    "for i,k in enumerate (kursi):\n",
    "    if i < len(kursi)-1: \n",
    "        if kursi[i] != kursi[i+1]:\n",
    "            totalCouple += 1\n",
    "print(f\"Jumlah kemungkinan penonton couple: {totalCouple}\")"
   ]
  },
  {
   "cell_type": "code",
   "execution_count": 71,
   "id": "24d828de-28e4-438b-945f-9adf1c2edf6a",
   "metadata": {},
   "outputs": [
    {
     "name": "stdout",
     "output_type": "stream",
     "text": [
      "0  1  2  3  4  5  6  7  8  9  \n",
      "5  6  7  8  9  10  11  12  13  14  15  \n",
      "10  20  30  40  50  60  70  80  90  100  \n",
      "10  -20  30  -40  50  -60  70  -80  90  -100  \n",
      "1  3  5  7  9  \n",
      "10  8  6  4  2  "
     ]
    }
   ],
   "source": [
    "#for -> range\n",
    "#mencetak 0-0\n",
    "for i in range(10):\n",
    "    print(i,\" \",end='')\n",
    "\n",
    "print()\n",
    "\n",
    "#mencetak 5-15\n",
    "for j in range(5,16):\n",
    "    print(j,\" \",end='')\n",
    "\n",
    "print()\n",
    "\n",
    "#mencetak 10 20 30 40 50 ...10\n",
    "for k in range(1,11):\n",
    "    print(k * 10,\" \", end='')\n",
    "\n",
    "print()\n",
    "\n",
    "#mencetka 10 -20 30 -40 50 -60 70 -80 90 -100\n",
    "tanda = 1\n",
    "for m in range(1,11):\n",
    "    print(m * 10 * tanda,\" \", end='')\n",
    "    tanda *=-1\n",
    "    \n",
    "print()\n",
    "\n",
    "#step\n",
    "for n in range(1,10,2):\n",
    "    print(n, \" \", end='')\n",
    "\n",
    "print()\n",
    "for p in range(10,1,-2):\n",
    "    print(p,\" \", end='')"
   ]
  },
  {
   "cell_type": "code",
   "execution_count": 79,
   "id": "5c68ed4e-224b-4dd0-b780-ed03547543de",
   "metadata": {},
   "outputs": [
    {
     "name": "stdin",
     "output_type": "stream",
     "text": [
      "Isikan Bilangan : 5\n"
     ]
    },
    {
     "name": "stdout",
     "output_type": "stream",
     "text": [
      "5 ! = 120\n"
     ]
    }
   ],
   "source": [
    "#Menghitung faktorial \n",
    "# 5 = 5 * 4 * 3 * 2 * 1 = 120\n",
    "# 4 = 4 * 3 * 2 * 1 = 24\n",
    "\n",
    "total = 1\n",
    "number = int(input(\"Isikan Bilangan :\"))\n",
    "for i in range(1,number +1):\n",
    "    total *=i\n",
    "print(f\"{number} ! = {total}\")"
   ]
  },
  {
   "cell_type": "code",
   "execution_count": 81,
   "id": "ff221e7f-744b-4e10-b35e-090b4fa5a60b",
   "metadata": {},
   "outputs": [
    {
     "name": "stdin",
     "output_type": "stream",
     "text": [
      "Isikan Bilangan : 8\n"
     ]
    },
    {
     "name": "stdout",
     "output_type": "stream",
     "text": [
      "8 adalah Bilangan Bukan Prima\n"
     ]
    }
   ],
   "source": [
    "#Menentukan bilangan PRIMA atau BUKAN\n",
    "\n",
    "number = int(input(\"Isikan Bilangan :\"))\n",
    "total = 0\n",
    "for i in range(1,number+1):\n",
    "    if number % i==0:\n",
    "        total += 1\n",
    "        \n",
    "if total==2:\n",
    "    print(f\"{number} adalah Bilangan Prima\")\n",
    "else:\n",
    "    print(f\"{number} adalah Bilangan Bukan Prima\")"
   ]
  }
 ],
 "metadata": {
  "kernelspec": {
   "display_name": "Python [conda env:base] *",
   "language": "python",
   "name": "conda-base-py"
  },
  "language_info": {
   "codemirror_mode": {
    "name": "ipython",
    "version": 3
   },
   "file_extension": ".py",
   "mimetype": "text/x-python",
   "name": "python",
   "nbconvert_exporter": "python",
   "pygments_lexer": "ipython3",
   "version": "3.12.7"
  }
 },
 "nbformat": 4,
 "nbformat_minor": 5
}
