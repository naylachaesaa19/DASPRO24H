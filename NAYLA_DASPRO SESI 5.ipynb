{
 "cells": [
  {
   "cell_type": "markdown",
   "id": "b657ea90-1299-4ec3-8dfa-6a4a579295c7",
   "metadata": {},
   "source": [
    "<h1>BIODATA</h1>"
   ]
  },
  {
   "cell_type": "code",
   "execution_count": 17,
   "id": "061dff9f-b9e0-4c36-8e90-e9c281361b29",
   "metadata": {},
   "outputs": [
    {
     "name": "stdin",
     "output_type": "stream",
     "text": [
      "Masukkan Nama Lengkap Anda:  Nayla Chaesa Pratiwi\n",
      "Masukkan TTL Anda:  Sukabumi, 19 Agustus 2006\n",
      "Masukkan Alamat Anda:  Jl. Cicadas \n",
      "Masukkan Jenis Kelamin Anda:  Perempuan\n",
      "Masukkan Agama Anda:  Islam\n"
     ]
    },
    {
     "name": "stdout",
     "output_type": "stream",
     "text": [
      "Nama Lengkap : Nayla Chaesa Pratiwi\n",
      "TTL : Sukabumi, 19 Agustus 2006\n",
      "Alamat : Jl. Cicadas \n",
      "Jenis Kelamin : Perempuan\n",
      "Agama : Islam\n"
     ]
    }
   ],
   "source": [
    "NamaLengkap = input(\"Masukkan Nama Lengkap Anda: \")\n",
    "TTL = input(\"Masukkan TTL Anda: \")\n",
    "Alamat = input(\"Masukkan Alamat Anda: \")\n",
    "JenisKelamin = input(\"Masukkan Jenis Kelamin Anda: \")\n",
    "Agama = input(\"Masukkan Agama Anda: \")\n",
    "    \n",
    "print(\"Nama Lengkap : {}\".format(NamaLengkap))\n",
    "print(\"TTL : {}\".format(TTL))\n",
    "print(\"Alamat : {}\".format(Alamat))\n",
    "print(\"Jenis Kelamin : {}\".format(JenisKelamin))\n",
    "print(\"Agama : {}\".format(Agama))"
   ]
  },
  {
   "cell_type": "markdown",
   "id": "67cbd5a4-4b85-4ada-a8c1-e5e01529ac70",
   "metadata": {},
   "source": [
    "<h1>KALIMAT</h1>"
   ]
  },
  {
   "cell_type": "code",
   "execution_count": 67,
   "id": "ab5f3b30-c9cb-4432-810b-29dddb34884c",
   "metadata": {},
   "outputs": [
    {
     "name": "stdin",
     "output_type": "stream",
     "text": [
      "Masukkan Kalimat: UNIVERSITAS NUSA PUTRA SUKABUMI\n"
     ]
    },
    {
     "name": "stdout",
     "output_type": "stream",
     "text": [
      "a. putra nusa\n",
      "b. NIVERSITAS NSA PTRA SKABMI\n",
      "c. SUKABUMI PUTRA NUSA UNIVERSITAS\n",
      "d. UNPS\n",
      "e. TAS SAPU BUMI\n"
     ]
    }
   ],
   "source": [
    "#UNIVERSITAS NUSA PUTRA SUKABUMI\n",
    "teks = input(\"Masukkan Kalimat:\")\n",
    "kata = teks.split()\n",
    "\n",
    "# a. putra nusa\n",
    "Output_a = \"{} {}\".format(kata[2].lower(), kata[1].lower())\n",
    "print(\"a.\", Output_a)\n",
    "# b. NIVERSITAS NSA PTRA SKABMI\n",
    "Output_b = \"{} {}{} {}{} {}{}{}\".format(teks[1:11], teks[12],teks[14:16], teks[17],teks[19:22], teks[23],teks[25:28],teks[29:])\n",
    "print(\"b.\", Output_b)\n",
    "# c. SUKABUMI PUTRA NUSA UNIVERSITAS\n",
    "Output_c = \"{} {} {} {}\".format(kata[3], kata[2], kata[1], kata[0])\n",
    "print(\"c.\", Output_c)\n",
    "# d. UNPS\n",
    "Output_d = \"{}{}{}{}\".format(teks[0], teks[12], teks[17], teks[23])\n",
    "print(\"d.\", Output_d)\n",
    "# e. TAS SAPU BUMI\n",
    "Output_e = \"{} {}{} {}\".format(teks[8:11], teks[14:16], teks[17:19], teks[27:])\n",
    "print(\"e.\", Output_e)"
   ]
  }
 ],
 "metadata": {
  "kernelspec": {
   "display_name": "Python [conda env:base] *",
   "language": "python",
   "name": "conda-base-py"
  },
  "language_info": {
   "codemirror_mode": {
    "name": "ipython",
    "version": 3
   },
   "file_extension": ".py",
   "mimetype": "text/x-python",
   "name": "python",
   "nbconvert_exporter": "python",
   "pygments_lexer": "ipython3",
   "version": "3.12.7"
  }
 },
 "nbformat": 4,
 "nbformat_minor": 5
}
