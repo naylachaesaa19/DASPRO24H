{
 "cells": [
  {
   "cell_type": "code",
   "execution_count": 1,
   "id": "9d5ee90a-057e-49a8-b27c-9cd69c92388b",
   "metadata": {},
   "outputs": [
    {
     "name": "stdout",
     "output_type": "stream",
     "text": [
      "Nama : Tedi\n",
      "Alamat : Jl. cisaat\n",
      "Umur : 23\n",
      "Nilai pemrograman : 85.7\n",
      "Status menikah : False\n",
      "Provinsi : 7413412\n"
     ]
    }
   ],
   "source": [
    "name = \"Tedi\"\n",
    "addres, province = \"Jl. cisaat\", \"7413412\"\n",
    "age = 23\n",
    "scorePython = 85.7\n",
    "isMarried = False\n",
    "\n",
    "print(\"Nama :\", name)\n",
    "print(\"Alamat :\", addres)\n",
    "print(\"Umur :\", age)\n",
    "print(\"Nilai pemrograman :\", scorePython)\n",
    "print(\"Status menikah :\", isMarried)\n",
    "print(\"Provinsi :\", province)"
   ]
  },
  {
   "cell_type": "code",
   "execution_count": 2,
   "id": "82d4d69e-2c8b-45dd-8f85-2196925e6d76",
   "metadata": {},
   "outputs": [
    {
     "name": "stdout",
     "output_type": "stream",
     "text": [
      "Tipe data <name> : <class 'str'>\n",
      "Tipe data <addres> : <class 'str'>\n",
      "Tipe data <age> : <class 'int'>\n",
      "Tipe data <scorePython> : <class 'float'>\n",
      "Tipe data <isMarried> : <class 'bool'>\n"
     ]
    }
   ],
   "source": [
    "print(\"Tipe data <name> :\", type(name))\n",
    "print(\"Tipe data <addres> :\", type(addres))\n",
    "print(\"Tipe data <age> :\", type(age))\n",
    "print(\"Tipe data <scorePython> :\", type(scorePython))\n",
    "print(\"Tipe data <isMarried> :\", type(isMarried))"
   ]
  },
  {
   "cell_type": "code",
   "execution_count": 3,
   "id": "2a5da4f7-bbda-45db-9e38-bd64bfbdbe79",
   "metadata": {},
   "outputs": [
    {
     "name": "stdout",
     "output_type": "stream",
     "text": [
      "7413414-7413412.0-True\n",
      "23-23.0-True\n",
      "85-85.7-True\n",
      "0-False-0.0\n"
     ]
    }
   ],
   "source": [
    "#Casting/Konversi tipe data\n",
    "#1. String ke (int,float,boolean)\n",
    "strToInt = int(province)\n",
    "strToFloat = float(province)\n",
    "strToBool = bool(province)\n",
    "print(strToInt + 2,strToFloat,strToBool, sep=\"-\")\n",
    "\n",
    "#2. Int ke (str,float,boolean)\n",
    "intToStr = str(age)\n",
    "intToFloat = float(age)\n",
    "intToBool = bool(age)\n",
    "print(intToStr, intToFloat, intToBool, sep=\"-\")\n",
    "\n",
    "#3. Float ke (int,str,boolean)\n",
    "FloatToInt = int(scorePython)\n",
    "FloatToStr = str(scorePython)\n",
    "FloatToBool = bool(scorePython)\n",
    "print(FloatToInt, FloatToStr, FloatToBool, sep=\"-\")\n",
    "\n",
    "#4. Boolean ke (int,str,float)\n",
    "BoolToInt = int(isMarried)\n",
    "BoolToStr = str(isMarried)\n",
    "BoolToFloat = float(isMarried) \n",
    "print(BoolToInt, BoolToStr, BoolToFloat, sep=\"-\")"
   ]
  },
  {
   "cell_type": "code",
   "execution_count": 4,
   "id": "4f6acdfd-7c20-4459-b093-f178c01efd65",
   "metadata": {},
   "outputs": [
    {
     "name": "stdout",
     "output_type": "stream",
     "text": [
      "Nilai desimal : 500\n",
      "Nilai biner : 10\n",
      "Nilai octal : 255\n",
      "Nilai hexa : 255\n",
      "Nilai biner dari  500 : 0b111110100\n",
      "Nilai octal dari  500 : 0o764\n",
      "Nilai hexa dari  500 : 0x1f4\n"
     ]
    }
   ],
   "source": [
    "#Tipe data basis bilangan (desimal, biner, octal, hexa)\n",
    "\n",
    "desimal = 500\n",
    "biner = 0b1010 #10\n",
    "octal = 0o377 #255\n",
    "hexa = 0xff #255\n",
    "\n",
    "print(\"Nilai desimal :\", desimal)\n",
    "print(\"Nilai biner :\", biner)\n",
    "print(\"Nilai octal :\", octal)\n",
    "print(\"Nilai hexa :\", hexa)\n",
    "\n",
    "print(\"Nilai biner dari \",desimal, \":\",bin(desimal))\n",
    "print(\"Nilai octal dari \",desimal, \":\",oct(desimal))\n",
    "print(\"Nilai hexa dari \",desimal, \":\",hex(desimal))"
   ]
  },
  {
   "cell_type": "code",
   "execution_count": 5,
   "id": "b699684c-546a-4640-b389-76f0609b3330",
   "metadata": {},
   "outputs": [
    {
     "name": "stdout",
     "output_type": "stream",
     "text": [
      "B\n",
      "7\n",
      "G\n"
     ]
    }
   ],
   "source": [
    "city = \"BANDUNG\"\n",
    "length = len(city)\n",
    "print(city[0])\n",
    "print(length)\n",
    "print(city [length-1])"
   ]
  },
  {
   "cell_type": "code",
   "execution_count": 7,
   "id": "516de655-fd7c-441a-b771-e02b0aecbf86",
   "metadata": {},
   "outputs": [
    {
     "name": "stdout",
     "output_type": "stream",
     "text": [
      "['Bandung', 'Sukabumi', 'Bogor', 'Jakarta', 'Medan']\n",
      "Bandung\n",
      "Medan\n",
      "M\n",
      "n\n",
      "['Bali', 'Sukabumi', 'Bogor', 'Jakarta', 'Medan']\n",
      "('Andi', 'Ferdi', 'Raihan')\n",
      "Ferdi\n",
      "{'name': 'Robi', 'age': 25, 'address': {'street': 'cisaat', 'number': 21, 'province': 'Jawa barat'}, 'isMarried': True, 'hobbies': ['Basket ball', 'Football']}\n",
      "25\n",
      "Jawa barat\n",
      "Basket ball\n",
      "Jawa barat\n"
     ]
    }
   ],
   "source": [
    "#Tipe data collection\n",
    "cities = [\"Bandung\",\"Sukabumi\",\"Bogor\",\"Jakarta\",\"Medan\"]\n",
    "lengthCities = len(cities)\n",
    "print(cities)\n",
    "print(cities[0])\n",
    "print(cities[lengthCities-1])\n",
    "print(cities[lengthCities-1][0])\n",
    "print(cities[lengthCities-1][len(cities[lengthCities-1])-1])\n",
    "cities[0] = \"Bali\"\n",
    "#cities[5] = \"Malang\" akan menyebabkan error out of range\n",
    "print(cities)\n",
    "          \n",
    "names = (\"Andi\",\"Ferdi\",\"Raihan\")\n",
    "print(names)\n",
    "print(names[1])\n",
    "#names[0] = \"Dedi\" error immutable tuple\n",
    "\n",
    "\n",
    "studentData = {\n",
    "    \"name\" : \"Robi\",\n",
    "    \"age\" : 25,\n",
    "    \"address\" : {\n",
    "        \"street\" : \"cisaat\",\n",
    "        \"number\" : 21,\n",
    "        \"province\" : \"Jawa barat\"\n",
    "    },\n",
    "    \"isMarried\" : True,\n",
    "    \"hobbies\" : [\"Basket ball\", \"Football\"]\n",
    "}\n",
    "print(studentData)\n",
    "print(studentData[\"age\"])\n",
    "print(studentData[\"address\"][\"province\"])\n",
    "print(studentData[\"hobbies\"][0])\n",
    "\n",
    "    \n",
    "StudentList = [\n",
    "    {\n",
    "    \"name\" : \"Robi\",\n",
    "    \"age\" : 25,\n",
    "    \"address\" : {\n",
    "        \"street\" : \"cisaat\",\n",
    "        \"number\" : 21,\n",
    "        \"province\" : \"Jawa barat\"\n",
    "    },\n",
    "    \"isMarried\" : True,\n",
    "    \"hobbies\" : [\"Basket ball\", \"Football\"]\n",
    "    },\n",
    "\n",
    "{\n",
    "    \"name\" : \"Dedi\",\n",
    "    \"age\" : 15,\n",
    "    \"address\" : {\n",
    "        \"street\" : \"Bogor\",\n",
    "        \"number\" : 29,\n",
    "        \"province\" : \"Jawa barat\"\n",
    "    },\n",
    "    \n",
    "    \"isMarried\" : True,\n",
    "    \"hobbies\" : [\"Chess\", \"Singing\"]\n",
    "}\n",
    "]\n",
    "print(StudentList[1][\"address\"][\"province\"])"
   ]
  },
  {
   "cell_type": "code",
   "execution_count": 8,
   "id": "4564aa02-2fee-453a-a214-8d3513c86e84",
   "metadata": {},
   "outputs": [
    {
     "name": "stdout",
     "output_type": "stream",
     "text": [
      "{'name': 'Nisya', 'age': 30, 'status': True}\n",
      "{'name': 'Widyaningrat', 'address': 'Sukabumi'}\n",
      "{'name': 'Tiger', 'type': 'Mamalia'}\n",
      "{'name': 'Crocodile', 'type': 'Reptile'}\n",
      "{'Vehicle': 'car', 'Brand': 'BMW', 'Cc': '2500'}\n"
     ]
    }
   ],
   "source": [
    "#Konversi dictionary\n",
    "\n",
    "list_list = [[\"name\", \"Nisya\"], [\"age\", 30], [\"status\", True]]\n",
    "dictListStudent = dict(list_list)\n",
    "print(dictListStudent)\n",
    "\n",
    "list_Tuple = [(\"name\", \"Widyaningrat\"), (\"address\", \"Sukabumi\")]\n",
    "dictTupleStudent = dict(list_Tuple)\n",
    "print(dictTupleStudent)\n",
    "\n",
    "tuple_list = [[\"name\", \"Tiger\"], [\"type\", \"Mamalia\"]]\n",
    "dictListAnimal = dict(tuple_list)\n",
    "print(dictListAnimal)\n",
    "\n",
    "tuple_tuple = [(\"name\", \"Crocodile\"), (\"type\", \"Reptile\")]\n",
    "dictTupAnimal = dict(tuple_tuple)\n",
    "print(dictTupAnimal)\n",
    "\n",
    "keys = [\"Vehicle\", \"Brand\", \"Cc\"]\n",
    "values = [\"car\", \"BMW\", \"2500\"]\n",
    "car = dict(zip(keys,values))\n",
    "print(car)"
   ]
  }
 ],
 "metadata": {
  "kernelspec": {
   "display_name": "Python 3 (ipykernel)",
   "language": "python",
   "name": "python3"
  },
  "language_info": {
   "codemirror_mode": {
    "name": "ipython",
    "version": 3
   },
   "file_extension": ".py",
   "mimetype": "text/x-python",
   "name": "python",
   "nbconvert_exporter": "python",
   "pygments_lexer": "ipython3",
   "version": "3.12.7"
  }
 },
 "nbformat": 4,
 "nbformat_minor": 5
}
