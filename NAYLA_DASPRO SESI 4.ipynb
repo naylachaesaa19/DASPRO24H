{
 "cells": [
  {
   "cell_type": "markdown",
   "id": "53947c14-607b-49a8-b066-3d6f6494ca13",
   "metadata": {},
   "source": [
    "<h1>OPERATOR ARITMATIKA</h1>"
   ]
  },
  {
   "cell_type": "code",
   "execution_count": 8,
   "id": "a52064bc-8863-47cb-8187-c361e33de341",
   "metadata": {},
   "outputs": [
    {
     "name": "stdout",
     "output_type": "stream",
     "text": [
      "Setiap Orang Akan Mendapatkan Apel Sebanyak: 3.0\n",
      "Total Apel Budi Sekarang Adalah: 20\n"
     ]
    }
   ],
   "source": [
    "jumlahApel = 12\n",
    "jumlahTeman = 4\n",
    "\n",
    "apelperTeman = jumlahApel / jumlahTeman\n",
    "print(\"Setiap Orang Akan Mendapatkan Apel Sebanyak:\",apelperTeman)\n",
    "\n",
    "tambahan = 8\n",
    "TotalApel = tambahan + jumlahApel\n",
    "\n",
    "print(\"Total Apel Budi Sekarang Adalah:\",TotalApel)"
   ]
  },
  {
   "cell_type": "markdown",
   "id": "483bc8b7-a1ad-4658-9634-fe1e1cd9fc45",
   "metadata": {},
   "source": [
    "<h1>OPERATOR PERBANDINGAN</h1>"
   ]
  },
  {
   "cell_type": "code",
   "execution_count": 21,
   "id": "c0167689-ab2b-4464-aa72-5677f53c0632",
   "metadata": {},
   "outputs": [
    {
     "name": "stdout",
     "output_type": "stream",
     "text": [
      "160 = 165 ? False\n",
      "160 != 165 ? True\n",
      "160 > 165 ? False\n",
      "160 < 165 ? True\n",
      "160 <= 165 ? True\n",
      "160 >= 165 ? False\n",
      "Jadi yang paling tinggi adalah Andi 165 cm\n"
     ]
    }
   ],
   "source": [
    "TinggiSiti = 160\n",
    "TinggiAndi = 165\n",
    "\n",
    "print(TinggiSiti,\"=\",TinggiAndi,\"?\",TinggiSiti==TinggiAndi)\n",
    "print(TinggiSiti,\"!=\",TinggiAndi,\"?\",TinggiSiti!=TinggiAndi)\n",
    "print(TinggiSiti,\">\",TinggiAndi,\"?\",TinggiSiti>TinggiAndi)\n",
    "print(TinggiSiti,\"<\",TinggiAndi,\"?\",TinggiSiti<TinggiAndi)\n",
    "print(TinggiSiti,\"<=\",TinggiAndi,\"?\",TinggiSiti<=TinggiAndi)\n",
    "print(TinggiSiti,\">=\",TinggiAndi,\"?\",TinggiSiti>=TinggiAndi)\n",
    "\n",
    "print(\"Jadi yang paling tinggi adalah Andi\",TinggiAndi,\"cm\")"
   ]
  },
  {
   "cell_type": "markdown",
   "id": "7e875bb2-c559-425d-b1cf-4b91b2f3bd1f",
   "metadata": {},
   "source": [
    "<h1>OPERATOR LOGIKA</h1>"
   ]
  },
  {
   "cell_type": "code",
   "execution_count": 24,
   "id": "f9577637-6f79-4449-9418-08c795a3129f",
   "metadata": {},
   "outputs": [
    {
     "name": "stdout",
     "output_type": "stream",
     "text": [
      "Apakah Budi Bisa Bermain Diluar? True\n"
     ]
    }
   ],
   "source": [
    "CuacaCerah = True\n",
    "PrSelesai = True\n",
    "\n",
    "BisaBermain = CuacaCerah and PrSelesai\n",
    "print(\"Apakah Budi Bisa Bermain Diluar?\",BisaBermain)"
   ]
  },
  {
   "cell_type": "markdown",
   "id": "01cd405a-ce96-4aa0-8569-64c5389c6339",
   "metadata": {},
   "source": [
    "<h1>OPERATOR BITWISE</h1>"
   ]
  },
  {
   "cell_type": "code",
   "execution_count": 33,
   "id": "450347bd-5d15-4384-9c45-ce2f21c092f1",
   "metadata": {},
   "outputs": [
    {
     "name": "stdout",
     "output_type": "stream",
     "text": [
      "0b110\n",
      "0b11\n",
      "-------------------&\n",
      "0b10 = 2\n",
      "\n",
      "0b110\n",
      "0b11\n",
      "-------------------|\n",
      "0b111 = 7\n",
      "\n",
      "0b110\n",
      "0b11\n",
      "-------------------^\n",
      "0b101 = 5\n",
      "\n"
     ]
    }
   ],
   "source": [
    "num1 = 6\n",
    "num2 = 3\n",
    "\n",
    "print(bin(num1))\n",
    "print(bin(num2))\n",
    "print(\"-------------------&\")\n",
    "print(bin(num1 & num2),\"=\",num1 & num2)\n",
    "print()\n",
    "print(bin(num1))\n",
    "print(bin(num2))\n",
    "print(\"-------------------|\")\n",
    "print(bin(num1 | num2),\"=\",num1 | num2)\n",
    "print()\n",
    "print(bin(num1))\n",
    "print(bin(num2))\n",
    "print(\"-------------------^\")\n",
    "print(bin(num1 ^ num2),\"=\",num1 ^ num2)\n",
    "print()"
   ]
  },
  {
   "cell_type": "markdown",
   "id": "376954ef-9add-4799-9d23-d282c92a456e",
   "metadata": {},
   "source": [
    "<h1>OPERATOR PENUGASAN</h1>"
   ]
  },
  {
   "cell_type": "code",
   "execution_count": 1,
   "id": "a39b2ed8-3d75-4831-bd72-91c5e35ec603",
   "metadata": {},
   "outputs": [
    {
     "name": "stdout",
     "output_type": "stream",
     "text": [
      "Saldo awal = 50000\n",
      "Setelah di tambah 20000 = 70000\n",
      "Dia membeli paket internet sebesar 30000 = 40000\n",
      "Sisa saldo pulsa adalah 40000\n"
     ]
    }
   ],
   "source": [
    "saldoAwal = 50000\n",
    "print(\"Saldo awal =\",saldoAwal)\n",
    "saldoAwal += 20000\n",
    "print(\"Setelah di tambah 20000 =\",saldoAwal)\n",
    "saldoAwal -= 30000\n",
    "print(\"Dia membeli paket internet sebesar 30000 =\",saldoAwal)\n",
    "print(\"Sisa saldo pulsa adalah 40000\")"
   ]
  },
  {
   "cell_type": "markdown",
   "id": "6d29515e-901d-4e24-bf87-ce905de3cc72",
   "metadata": {},
   "source": [
    "<h1>OPERATOR KEANGGOTAAN</h1>"
   ]
  },
  {
   "cell_type": "code",
   "execution_count": 23,
   "id": "c11e8cc3-c0ca-4e3a-8789-69483c741ec5",
   "metadata": {},
   "outputs": [
    {
     "name": "stdout",
     "output_type": "stream",
     "text": [
      "Apakah terdaftar dalam peserta lomba? False\n",
      "Apakah kata Python ada dalam kalimat tersebut? True\n"
     ]
    }
   ],
   "source": [
    "nama = \"Eka\"\n",
    "DaftarPesertaLomba = (\"Andi\",\"Budi\",\"Citra\",\"Dewi\")\n",
    "hasil = nama in DaftarPesertaLomba\n",
    "print(\"Apakah terdaftar dalam peserta lomba?\",hasil)\n",
    "\n",
    "kalimat = \"Python\"\n",
    "mengecek = (\"Saya suka belajar Python\")\n",
    "hasil = kalimat in mengecek\n",
    "print(\"Apakah kata Python ada dalam kalimat tersebut?\",hasil)"
   ]
  },
  {
   "cell_type": "markdown",
   "id": "f4b3f2d9-3884-44de-b16f-ea29e30c3758",
   "metadata": {},
   "source": [
    "<h1>OPERATOR IDENTITAS</h1>"
   ]
  },
  {
   "cell_type": "code",
   "execution_count": 28,
   "id": "d1882e4b-bbc5-4978-a242-7d6af8076641",
   "metadata": {},
   "outputs": [
    {
     "name": "stdout",
     "output_type": "stream",
     "text": [
      "Apakah variabel x dan y memiliki nilai yang sama? True\n",
      "Apakah kedua list tersebut mengacu ke objek yang sama? False\n"
     ]
    }
   ],
   "source": [
    "x = 19\n",
    "y = 19\n",
    "hasil = x is y\n",
    "print(\"Apakah variabel x dan y memiliki nilai yang sama?\",hasil)\n",
    "\n",
    "list1 = [\"11\",\"90\",\"50\"]\n",
    "list2 = [\"11\",\"90\",\"50\"]\n",
    "hasil = list1 is list2\n",
    "print(\"Apakah kedua list tersebut mengacu ke objek yang sama?\",hasil)"
   ]
  },
  {
   "cell_type": "markdown",
   "id": "64193e4a-9610-4e1e-897f-f36b28c7155f",
   "metadata": {},
   "source": [
    "<h1>OPERATOR TERNARY</h1>"
   ]
  },
  {
   "cell_type": "code",
   "execution_count": 41,
   "id": "dffb246e-4f2a-4808-9e3f-2f5c974ddb0e",
   "metadata": {},
   "outputs": [
    {
     "name": "stdout",
     "output_type": "stream",
     "text": [
      "Lebih besar dari 100\n",
      "Tidak lebih besar dari 100\n"
     ]
    },
    {
     "name": "stdin",
     "output_type": "stream",
     "text": [
      "Isikan nilai 60\n"
     ]
    },
    {
     "name": "stdout",
     "output_type": "stream",
     "text": [
      "Tidak Lulus\n"
     ]
    },
    {
     "name": "stdin",
     "output_type": "stream",
     "text": [
      "Isikan nilai 98\n"
     ]
    },
    {
     "name": "stdout",
     "output_type": "stream",
     "text": [
      "Lulus\n"
     ]
    }
   ],
   "source": [
    "Angka1 = 180\n",
    "hasil = \"Lebih besar dari 100\" if Angka1 > 100 else \"Tidak lebih besar dari 100\"\n",
    "print(hasil)\n",
    "\n",
    "Angka2 = 20\n",
    "hasil = \"Lebih besar dari 100\" if Angka2 > 100 else \"Tidak lebih besar dari 100\"\n",
    "print(hasil)\n",
    "\n",
    "nilaiUjian1 = int(input(\"Isikan nilai\"))\n",
    "hasil = \"Lulus\" if nilaiUjian1 > 70 else \"Tidak Lulus\"\n",
    "print(hasil)\n",
    "\n",
    "nilaiUjian2 = int(input(\"Isikan nilai\"))\n",
    "hasil = \"Lulus\" if nilaiUjian2 > 70 else \"Tidak Lulus\"\n",
    "print(hasil)"
   ]
  }
 ],
 "metadata": {
  "kernelspec": {
   "display_name": "Python [conda env:base] *",
   "language": "python",
   "name": "conda-base-py"
  },
  "language_info": {
   "codemirror_mode": {
    "name": "ipython",
    "version": 3
   },
   "file_extension": ".py",
   "mimetype": "text/x-python",
   "name": "python",
   "nbconvert_exporter": "python",
   "pygments_lexer": "ipython3",
   "version": "3.12.7"
  }
 },
 "nbformat": 4,
 "nbformat_minor": 5
}
